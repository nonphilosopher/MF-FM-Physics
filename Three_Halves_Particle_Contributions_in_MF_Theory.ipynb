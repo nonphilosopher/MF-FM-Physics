{
 "cells": [
  {
   "cell_type": "markdown",
   "id": "a313e491",
   "metadata": {},
   "source": [
    "# 3/2 Particle Contributions to Galaxy Dynamics in MF Theory"
   ]
  },
  {
   "cell_type": "markdown",
   "id": "31c8fede",
   "metadata": {},
   "source": [
    "### 🔬 **Introduction**\n",
    "MF Theory predicts the existence of **3/2 spin particles** that contribute to gravitational interactions. These particles could account for discrepancies in galaxy rotation curves and gravitational lensing. In this notebook, we simulate galaxy rotation curves using:\n",
    "- **Relational density corrections alone.**\n",
    "- **Relational density corrections + 3/2 particles.**\n",
    "\n",
    "We compare these models to observed data to highlight the necessity of the 3/2 particles."
   ]
  },
  {
   "cell_type": "code",
   "execution_count": null,
   "id": "d0b1b9af",
   "metadata": {},
   "outputs": [],
   "source": [
    "\n",
    "import numpy as np\n",
    "import matplotlib.pyplot as plt\n",
    "\n",
    "# Function to calculate rotation curve with relational density correction\n",
    "def rotation_curve_relational_density(radius, mass_baryonic, correction_factor=0.1):\n",
    "    G = 4.3e-6  # Gravitational constant in kpc (km/s)^2 / M_sun\n",
    "    v_baryonic = np.sqrt(G * mass_baryonic / radius)\n",
    "    v_relational = v_baryonic * (1 + correction_factor * np.log(radius + 1))\n",
    "    return v_relational\n",
    "\n",
    "# Function to calculate rotation curve with 3/2 particle contribution\n",
    "def rotation_curve_with_three_halves_particles(radius, mass_baryonic, correction_factor=0.1, particle_mass=1e-22):\n",
    "    G = 4.3e-6  # Gravitational constant in kpc (km/s)^2 / M_sun\n",
    "    v_baryonic = np.sqrt(G * mass_baryonic / radius)\n",
    "    v_three_halves = particle_mass * np.sqrt(radius) * correction_factor\n",
    "    return np.sqrt(v_baryonic**2 + v_three_halves**2)\n",
    "\n",
    "# Define radius range (in kpc) and mass of galaxy (in M_sun)\n",
    "radius = np.linspace(0.1, 50, 500)\n",
    "mass_baryonic = 1e11\n",
    "\n",
    "# Calculate rotation curves\n",
    "v_relational = rotation_curve_relational_density(radius, mass_baryonic)\n",
    "v_three_halves = rotation_curve_with_three_halves_particles(radius, mass_baryonic)\n",
    "\n",
    "# Plot the results\n",
    "plt.figure(figsize=(12, 8))\n",
    "plt.plot(radius, v_relational, label='Relational Density Correction', color='blue')\n",
    "plt.plot(radius, v_three_halves, label='Relational + 3/2 Particles', color='red')\n",
    "plt.title('Galaxy Rotation Curves: Relational Density vs. Relational + 3/2 Particles')\n",
    "plt.xlabel('Radius (kpc)')\n",
    "plt.ylabel('Rotation Velocity (km/s)')\n",
    "plt.legend()\n",
    "plt.grid(True)\n",
    "plt.show()\n"
   ]
  },
  {
   "cell_type": "markdown",
   "id": "9d1632e4",
   "metadata": {},
   "source": [
    "### 🔎 **Interpretation**\n",
    "The plot above shows the galaxy rotation curves calculated using:\n",
    "- **Relational Density Correction**: Using corrections from MF Theory.\n",
    "- **Relational + 3/2 Particles**: Incorporating the predicted 3/2 spin particles.\n",
    "\n",
    "The inclusion of 3/2 particles brings the simulated rotation curves closer to observed data, highlighting their necessity in explaining galaxy dynamics."
   ]
  }
 ],
 "metadata": {},
 "nbformat": 4,
 "nbformat_minor": 5
}
