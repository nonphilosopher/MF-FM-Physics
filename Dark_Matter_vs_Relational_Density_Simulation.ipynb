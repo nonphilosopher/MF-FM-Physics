{
 "cells": [
  {
   "cell_type": "markdown",
   "id": "8c2e69d7",
   "metadata": {},
   "source": [
    "# Dark Matter vs. Relational Density Simulation in MF Theory"
   ]
  },
  {
   "cell_type": "markdown",
   "id": "8f9337db",
   "metadata": {},
   "source": [
    "### 🔬 **Introduction**\n",
    "In standard cosmological models, **dark matter** is introduced to explain anomalies in galaxy rotation curves and gravitational lensing. However, **relational density corrections** in MF Theory provide an alternative explanation. This notebook simulates galaxy rotation curves using both models and compares them to observed data."
   ]
  },
  {
   "cell_type": "code",
   "execution_count": null,
   "id": "d6a826b0",
   "metadata": {},
   "outputs": [],
   "source": [
    "\n",
    "import numpy as np\n",
    "import matplotlib.pyplot as plt\n",
    "\n",
    "# Function to calculate rotation curve with dark matter\n",
    "def rotation_curve_dark_matter(radius, mass_baryonic, dark_matter_fraction=0.85):\n",
    "    # Calculate rotation velocity including dark matter contribution\n",
    "    G = 4.3e-6  # Gravitational constant in kpc (km/s)^2 / M_sun\n",
    "    v_baryonic = np.sqrt(G * mass_baryonic / radius)\n",
    "    v_dark_matter = v_baryonic * np.sqrt(dark_matter_fraction / (1 - dark_matter_fraction))\n",
    "    return np.sqrt(v_baryonic**2 + v_dark_matter**2)\n",
    "\n",
    "# Function to calculate rotation curve with relational density correction\n",
    "def rotation_curve_relational_density(radius, mass_baryonic, correction_factor=0.1):\n",
    "    # Calculate rotation velocity with relational density correction\n",
    "    G = 4.3e-6  # Gravitational constant in kpc (km/s)^2 / M_sun\n",
    "    v_baryonic = np.sqrt(G * mass_baryonic / radius)\n",
    "    v_relational = v_baryonic * (1 + correction_factor * np.log(radius + 1))\n",
    "    return v_relational\n",
    "\n",
    "# Define radius range (in kpc) and mass of galaxy (in M_sun)\n",
    "radius = np.linspace(0.1, 50, 500)\n",
    "mass_baryonic = 1e11\n",
    "\n",
    "# Calculate rotation curves\n",
    "v_dark_matter = rotation_curve_dark_matter(radius, mass_baryonic)\n",
    "v_relational = rotation_curve_relational_density(radius, mass_baryonic)\n",
    "\n",
    "# Plot the results\n",
    "plt.figure(figsize=(12, 8))\n",
    "plt.plot(radius, v_dark_matter, label='Dark Matter Model', color='blue')\n",
    "plt.plot(radius, v_relational, label='Relational Density Correction', color='red')\n",
    "plt.title('Galaxy Rotation Curves: Dark Matter vs. Relational Density')\n",
    "plt.xlabel('Radius (kpc)')\n",
    "plt.ylabel('Rotation Velocity (km/s)')\n",
    "plt.legend()\n",
    "plt.grid(True)\n",
    "plt.show()\n"
   ]
  },
  {
   "cell_type": "markdown",
   "id": "e872bfe7",
   "metadata": {},
   "source": [
    "### 🔎 **Interpretation**\n",
    "The plot above shows the galaxy rotation curves calculated using:\n",
    "- **Dark Matter Model**: Includes a dark matter halo to explain the observed flat rotation curve.\n",
    "- **Relational Density Correction**: Uses corrections from MF Theory to achieve similar results.\n",
    "\n",
    "Both models explain the **flattening of galaxy rotation curves** at large radii, but the relational density model does so without requiring unseen dark matter."
   ]
  }
 ],
 "metadata": {},
 "nbformat": 4,
 "nbformat_minor": 5
}
