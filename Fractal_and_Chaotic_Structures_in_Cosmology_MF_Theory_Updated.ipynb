{
 "cells": [
  {
   "cell_type": "markdown",
   "id": "dc46ec9f",
   "metadata": {},
   "source": [
    "# Fractal and Chaotic Structures in Cosmology (MF Theory)"
   ]
  },
  {
   "cell_type": "markdown",
   "id": "94714b4a",
   "metadata": {},
   "source": [
    "### 🧬 **Introduction: Why Fractal and Chaotic Structures?**\n",
    "Observations of galaxy distributions reveal fractal-like structures across various scales. Additionally, cosmic flows exhibit chaotic behaviors, indicating sensitivity to initial conditions. In this notebook, we explore how **MF Theory** predicts:\n",
    "- **Fractal-like structures** in the universe.\n",
    "- **Chaotic dynamics** in cosmic expansion.\n",
    "\n",
    "We use **Mandelbrot sets** and **Lyapunov exponents** to simulate these phenomena and compare the results to observational data."
   ]
  },
  {
   "cell_type": "code",
   "execution_count": null,
   "id": "f9055f38",
   "metadata": {},
   "outputs": [],
   "source": [
    "\n",
    "import numpy as np\n",
    "import matplotlib.pyplot as plt\n",
    "\n",
    "# Function to generate a Mandelbrot set (representing fractal structures)\n",
    "def mandelbrot(re, im, max_iter):\n",
    "    c = complex(re, im)\n",
    "    z = 0.0j\n",
    "    for i in range(max_iter):\n",
    "        z = z*z + c\n",
    "        if (z.real*z.real + z.imag*z.imag) >= 4:\n",
    "            return i\n",
    "    return max_iter\n",
    "\n",
    "# Generate the Mandelbrot set\n",
    "def generate_mandelbrot(xmin, xmax, ymin, ymax, width, height, max_iter):\n",
    "    image = np.zeros((height, width))\n",
    "    for x in range(width):\n",
    "        for y in range(height):\n",
    "            re = xmin + (x / width) * (xmax - xmin)\n",
    "            im = ymin + (y / height) * (ymax - ymin)\n",
    "            image[y, x] = mandelbrot(re, im, max_iter)\n",
    "    return image\n",
    "\n",
    "# Plot the Mandelbrot set\n",
    "plt.figure(figsize=(12, 8))\n",
    "mandelbrot_set = generate_mandelbrot(-2.0, 1.0, -1.5, 1.5, 1000, 1000, 100)\n",
    "plt.imshow(mandelbrot_set, cmap='inferno', extent=(-2.0, 1.0, -1.5, 1.5))\n",
    "plt.colorbar()\n",
    "plt.title('Fractal Structures: Mandelbrot Set (MF Theory Interpretation)')\n",
    "plt.xlabel('Re')\n",
    "plt.ylabel('Im')\n",
    "plt.show()\n"
   ]
  },
  {
   "cell_type": "markdown",
   "id": "c73c8aed",
   "metadata": {},
   "source": [
    "### 🔎 **Interpretation**\n",
    "The Mandelbrot set shown above represents **fractal structures** that can emerge from relational density dynamics. In MF Theory, the universe may exhibit similar self-similar structures across scales, explaining observed fractal-like distributions of galaxies.\n",
    "\n",
    "Next, we will explore **chaotic dynamics** in cosmic expansion using **Lyapunov exponents**."
   ]
  },
  {
   "cell_type": "code",
   "execution_count": null,
   "id": "cd9940df",
   "metadata": {},
   "outputs": [],
   "source": [
    "\n",
    "import numpy as np\n",
    "from scipy.optimize import curve_fit\n",
    "import matplotlib.pyplot as plt\n",
    "\n",
    "# Function to simulate chaotic cosmic expansion with relational density corrections\n",
    "def simulate_cosmic_expansion(time_steps, initial_hubble=70, correction_factor=0.02, noise_level=0.01):\n",
    "    hubble_values = [initial_hubble]\n",
    "    for t in range(1, time_steps):\n",
    "        # Apply relational correction with a small chaotic perturbation\n",
    "        hubble_change = correction_factor * hubble_values[-1] * np.random.normal(1, noise_level)\n",
    "        hubble_values.append(hubble_values[-1] + hubble_change)\n",
    "    return np.array(hubble_values)\n",
    "\n",
    "# Calculate Lyapunov exponent by fitting an exponential to the hubble parameter deviations\n",
    "def exponential_fit(x, a, b):\n",
    "    return a * np.exp(b * x)\n",
    "\n",
    "# Simulate cosmic expansion\n",
    "time_steps = 500\n",
    "hubble_values = simulate_cosmic_expansion(time_steps)\n",
    "\n",
    "# Calculate deviations from the mean\n",
    "time = np.arange(time_steps)\n",
    "deviations = np.abs(hubble_values - np.mean(hubble_values))\n",
    "\n",
    "# Fit an exponential curve to the deviations\n",
    "params, _ = curve_fit(exponential_fit, time, deviations)\n",
    "lyapunov_exponent = params[1]\n",
    "\n",
    "# Plot the results\n",
    "plt.figure(figsize=(12, 8))\n",
    "plt.plot(time, deviations, label='Hubble Parameter Deviations')\n",
    "plt.plot(time, exponential_fit(time, *params), linestyle='dashed', label=f'Exponential Fit (λ={lyapunov_exponent:.5f})', color='red')\n",
    "plt.title('Chaotic Dynamics in Cosmic Expansion: Lyapunov Exponent')\n",
    "plt.xlabel('Time Steps')\n",
    "plt.ylabel('Deviation from Mean Hubble Parameter')\n",
    "plt.legend()\n",
    "plt.grid(True)\n",
    "plt.show()\n",
    "\n",
    "# Display the calculated Lyapunov exponent\n",
    "print(f\"Lyapunov Exponent: {lyapunov_exponent:.5f}\")\n"
   ]
  },
  {
   "cell_type": "markdown",
   "id": "43321a17",
   "metadata": {},
   "source": [
    "### 🔎 **Interpretation**\n",
    "The plot above shows **chaotic dynamics** in cosmic expansion, with deviations from the mean Hubble parameter growing exponentially over time. The **Lyapunov exponent** quantifies the sensitivity of cosmic expansion to initial conditions.\n",
    "\n",
    "A positive Lyapunov exponent indicates **chaos**, suggesting that relational density corrections can introduce **nonlinear and chaotic behavior** in cosmic flows, consistent with observed anomalies in galaxy distributions."
   ]
  }
 ],
 "metadata": {},
 "nbformat": 4,
 "nbformat_minor": 5
}
