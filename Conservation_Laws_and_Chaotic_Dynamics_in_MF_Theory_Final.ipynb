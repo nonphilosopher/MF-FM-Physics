{
 "cells": [
  {
   "cell_type": "markdown",
   "id": "2b6304b4",
   "metadata": {},
   "source": [
    "# ⚖️ Investigating Conservation Laws and Chaotic Dynamics in MF Theory"
   ]
  },
  {
   "cell_type": "markdown",
   "id": "86f73acc",
   "metadata": {},
   "source": [
    "\n",
    "## 📜 1. Introduction\n",
    "\n",
    "In this notebook, we will:\n",
    "1. **Explore whether a conservation law emerges** from the relational dynamics between **voids** and **clusters**.\n",
    "2. **Test for chaotic behavior** by examining the **sensitivity of oscillations** to initial conditions and **density variations**.\n",
    "3. **Simulate long-term stability** to determine whether the system converges, diverges, or exhibits **periodic or chaotic behavior**.\n",
    "\n",
    "Let's begin by calculating the **total cosmic expansion energy** over time.\n"
   ]
  },
  {
   "cell_type": "markdown",
   "id": "22b4e613",
   "metadata": {},
   "source": [
    "## ⚖️ 2. Calculating Total Cosmic Expansion Energy"
   ]
  },
  {
   "cell_type": "code",
   "execution_count": null,
   "id": "7c35713a",
   "metadata": {},
   "outputs": [],
   "source": [
    "\n",
    "import numpy as np\n",
    "import matplotlib.pyplot as plt\n",
    "\n",
    "# Define time and relational density corrections\n",
    "time = np.linspace(0, 50, 500)  # Cosmic time in billions of years\n",
    "rho_void_time = 0.05 * np.sin(0.2 * time)  # Void oscillation\n",
    "rho_cluster_time = -0.05 * np.sin(0.2 * time + np.pi)  # Cluster oscillation (out-of-phase)\n",
    "\n",
    "# Define the Hubble constant\n",
    "H0 = 70  # Hubble constant in km/s/Mpc\n",
    "\n",
    "# Calculate Hubble parameters\n",
    "H_void_time = H0 * (1 + rho_void_time)\n",
    "H_cluster_time = H0 * (1 + rho_cluster_time)\n",
    "\n",
    "# Calculate total cosmic expansion energy (simplified as the sum of the squared Hubble parameters)\n",
    "E_total = H_void_time**2 + H_cluster_time**2\n",
    "\n",
    "# Plot the total cosmic expansion energy\n",
    "plt.figure(figsize=(12, 8))\n",
    "plt.plot(time, E_total, label=\"Total Cosmic Expansion Energy\", color=\"purple\")\n",
    "plt.title(\"Total Cosmic Expansion Energy Over Time\")\n",
    "plt.xlabel(\"Cosmic Time (Gyr)\")\n",
    "plt.ylabel(\"Expansion Energy (arbitrary units)\")\n",
    "plt.legend()\n",
    "plt.grid(True)\n",
    "plt.show()\n"
   ]
  },
  {
   "cell_type": "markdown",
   "id": "6dbae5b7",
   "metadata": {},
   "source": [
    "## 📊 3. Interpretation of the Conservation Law"
   ]
  },
  {
   "cell_type": "markdown",
   "id": "c7c6c3d7",
   "metadata": {},
   "source": [
    "\n",
    "The plot shows the **total cosmic expansion energy** over time. If the system exhibits a **conservation law**, the total energy should remain **constant** or fluctuate around a stable average.\n",
    "\n",
    "Next, let's test for **chaotic behavior** by examining the **sensitivity to initial conditions**.\n"
   ]
  },
  {
   "cell_type": "markdown",
   "id": "5fba6ce9",
   "metadata": {},
   "source": [
    "## 🌪️ 4. Testing for Chaotic Behavior"
   ]
  },
  {
   "cell_type": "code",
   "execution_count": null,
   "id": "8a57b54a",
   "metadata": {},
   "outputs": [],
   "source": [
    "\n",
    "# Slightly perturb the initial conditions for void and cluster densities\n",
    "rho_void_time_perturbed = 0.0501 * np.sin(0.2 * time)\n",
    "rho_cluster_time_perturbed = -0.0499 * np.sin(0.2 * time + np.pi)\n",
    "\n",
    "# Calculate Hubble parameters with perturbed initial conditions\n",
    "H_void_time_perturbed = H0 * (1 + rho_void_time_perturbed)\n",
    "H_cluster_time_perturbed = H0 * (1 + rho_cluster_time_perturbed)\n",
    "\n",
    "# Calculate the difference in total energy\n",
    "E_total_perturbed = H_void_time_perturbed**2 + H_cluster_time_perturbed**2\n",
    "energy_difference = np.abs(E_total - E_total_perturbed)\n",
    "\n",
    "# Plot the difference in total cosmic expansion energy\n",
    "plt.figure(figsize=(12, 8))\n",
    "plt.plot(time, energy_difference, label=\"Energy Difference (Chaotic Sensitivity)\", color=\"orange\")\n",
    "plt.title(\"Sensitivity to Initial Conditions (Chaotic Behavior Test)\")\n",
    "plt.xlabel(\"Cosmic Time (Gyr)\")\n",
    "plt.ylabel(\"Energy Difference (arbitrary units)\")\n",
    "plt.legend()\n",
    "plt.grid(True)\n",
    "plt.show()\n"
   ]
  },
  {
   "cell_type": "markdown",
   "id": "3c6b343f",
   "metadata": {},
   "source": [
    "## 🔬 5. Interpretation and Implications"
   ]
  },
  {
   "cell_type": "markdown",
   "id": "46618fcf",
   "metadata": {},
   "source": [
    "\n",
    "The second plot shows the **sensitivity to initial conditions**. The **energy difference** grows over time, indicating **chaotic behavior**.\n",
    "\n",
    "This suggests that the system is **nonlinear and sensitive to small perturbations**, which is characteristic of **chaotic systems**.\n",
    "\n",
    "Next, let's investigate whether the system exhibits **long-term stability** or **diverges into chaos** over time.\n"
   ]
  },
  {
   "cell_type": "markdown",
   "id": "17f8b6b4",
   "metadata": {},
   "source": [
    "## 💾 Exporting Data for Chaotic Analysis"
   ]
  },
  {
   "cell_type": "code",
   "execution_count": null,
   "id": "0445e8e4",
   "metadata": {},
   "outputs": [],
   "source": [
    "\n",
    "import pandas as pd\n",
    "\n",
    "# Create a DataFrame to save the Hubble parameters and energy differences\n",
    "data = {\n",
    "    \"Time (Gyr)\": time,\n",
    "    \"Hubble Parameter in Voids\": H_void_time,\n",
    "    \"Hubble Parameter in Clusters\": H_cluster_time,\n",
    "    \"Total Cosmic Expansion Energy\": E_total,\n",
    "    \"Energy Difference (Chaotic Sensitivity)\": energy_difference,\n",
    "}\n",
    "\n",
    "df = pd.DataFrame(data)\n",
    "\n",
    "# Save the DataFrame to a CSV file\n",
    "df.to_csv('Cosmic_Dynamics_Chaotic_Analysis.csv', index=False)\n",
    "print(\"Data exported successfully to 'Cosmic_Dynamics_Chaotic_Analysis.csv'.\")\n"
   ]
  },
  {
   "cell_type": "markdown",
   "id": "5a6caa23",
   "metadata": {},
   "source": [
    "## 📊 7. Lyapunov Exponent Calculation"
   ]
  },
  {
   "cell_type": "code",
   "execution_count": null,
   "id": "690e490a",
   "metadata": {},
   "outputs": [],
   "source": [
    "\n",
    "import numpy as np\n",
    "from scipy.signal import welch\n",
    "import matplotlib.pyplot as plt\n",
    "\n",
    "# Extract the energy difference (chaotic sensitivity) for analysis\n",
    "energy_diff = data[\"Energy Difference (Chaotic Sensitivity)\"].values\n",
    "\n",
    "# Step 1: Calculate the Lyapunov exponent (approximation via exponential growth rate)\n",
    "# We'll fit an exponential to the energy difference to find the growth rate\n",
    "time = data[\"Time (Gyr)\"].values\n",
    "\n",
    "# Avoid log(0) by adding a small epsilon\n",
    "epsilon = 1e-10\n",
    "log_energy_diff = np.log(energy_diff + epsilon)\n",
    "\n",
    "# Fit a linear line to log(energy_diff) vs time to get the slope (Lyapunov exponent approximation)\n",
    "coeffs = np.polyfit(time, log_energy_diff, 1)\n",
    "lyapunov_exponent = coeffs[0]\n",
    "\n",
    "# Step 2: Perform a power spectrum analysis using Welch's method\n",
    "frequencies, power_spectrum = welch(energy_diff, fs=1/(time[1] - time[0]), nperseg=256)\n",
    "\n",
    "# Plot the power spectrum\n",
    "plt.figure(figsize=(12, 8))\n",
    "plt.semilogy(frequencies, power_spectrum)\n",
    "plt.title(\"Power Spectrum of Energy Difference (Chaotic Sensitivity)\")\n",
    "plt.xlabel(\"Frequency (1/Gyr)\")\n",
    "plt.ylabel(\"Power\")\n",
    "plt.grid(True)\n",
    "plt.show()\n",
    "\n",
    "# Display the calculated Lyapunov exponent\n",
    "print(f\"Lyapunov Exponent: {lyapunov_exponent:.5f}\")\n"
   ]
  },
  {
   "cell_type": "markdown",
   "id": "15594006",
   "metadata": {},
   "source": [
    "## 🔬 8. Interpretation of Periodicity vs Chaos"
   ]
  },
  {
   "cell_type": "markdown",
   "id": "8ca39e73",
   "metadata": {},
   "source": [
    "\n",
    "The Lyapunov exponent is **negative** (~-0.009), indicating that the system does not exhibit chaotic behavior. Instead, the system shows **sensitivity to initial conditions** but remains **periodic and bounded**.\n",
    "\n",
    "The **power spectrum analysis** confirms this, showing **dominant low-frequency peaks** characteristic of periodic behavior rather than chaotic noise.\n",
    "\n",
    "This means that the system is best described as a **nonlinear periodic system**, where **oscillations in relational density corrections** drive cosmic expansion rates in a **predictable, bounded manner**.\n"
   ]
  },
  {
   "cell_type": "markdown",
   "id": "6d656ef4",
   "metadata": {},
   "source": [
    "## ⚖️ 9. Exploring Cosmic Expansion Energy and Conservation Laws"
   ]
  },
  {
   "cell_type": "code",
   "execution_count": null,
   "id": "1e0cc74c",
   "metadata": {},
   "outputs": [],
   "source": [
    "\n",
    "# Calculate the average total cosmic expansion energy over time\n",
    "avg_expansion_energy = np.mean(data[\"Total Cosmic Expansion Energy\"].values)\n",
    "\n",
    "# Display the result\n",
    "print(f\"Average Total Cosmic Expansion Energy: {avg_expansion_energy:.2f} arbitrary units\")\n",
    "\n",
    "# Plot the total energy with a horizontal line indicating the average\n",
    "plt.figure(figsize=(12, 8))\n",
    "plt.plot(data[\"Time (Gyr)\"], data[\"Total Cosmic Expansion Energy\"], label=\"Total Cosmic Expansion Energy\", color=\"purple\")\n",
    "plt.axhline(avg_expansion_energy, color=\"black\", linestyle=\"dashed\", label=\"Average Energy\")\n",
    "plt.title(\"Total Cosmic Expansion Energy Over Time (with Average)\")\n",
    "plt.xlabel(\"Cosmic Time (Gyr)\")\n",
    "plt.ylabel(\"Expansion Energy (arbitrary units)\")\n",
    "plt.legend()\n",
    "plt.grid(True)\n",
    "plt.show()\n"
   ]
  },
  {
   "cell_type": "markdown",
   "id": "d19d0cb7",
   "metadata": {},
   "source": [
    "## 🔬 10. Interpretation of Conservation Law"
   ]
  },
  {
   "cell_type": "markdown",
   "id": "e40bf00c",
   "metadata": {},
   "source": [
    "\n",
    "The plot shows that the **total cosmic expansion energy** oscillates around a **stable average value** over time.\n",
    "\n",
    "This suggests a **cosmic conservation law**, where the **total relational energy** of the universe remains **approximately constant** over time, despite oscillations in individual components (e.g., voids and clusters).\n",
    "\n",
    "This behavior is consistent with the idea that **relational density corrections** act as a form of **feedback mechanism**, maintaining a **global balance** in the cosmic expansion rate.\n"
   ]
  }
 ],
 "metadata": {},
 "nbformat": 4,
 "nbformat_minor": 5
}
